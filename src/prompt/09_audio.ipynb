{
 "cells": [
  {
   "cell_type": "code",
   "execution_count": 1,
   "metadata": {},
   "outputs": [],
   "source": [
    "import os\n",
    "import openai\n",
    "from IPython.display import HTML\n",
    "from tenacity import (\n",
    "    retry,\n",
    "    stop_after_attempt,\n",
    "    wait_random_exponential,\n",
    ")\n",
    "\n",
    "openai.organization = os.getenv('OPENAI_API_ORG')\n",
    "openai.api_key  = os.getenv('OPENAI_API_KEY')"
   ]
  },
  {
   "cell_type": "code",
   "execution_count": 3,
   "metadata": {},
   "outputs": [],
   "source": [
    "@retry(wait=wait_random_exponential(multiplier=1, min=4, max=10), stop=stop_after_attempt(6))\n",
    "def get_transcription(prompt, audio_file):\n",
    "    try:\n",
    "        response = openai.Audio.transcribe(model=\"whisper-1\", file = audio_file,\n",
    "                                     response_format = 'text')\n",
    "        \n",
    "    except openai.error.InvalidRequestError as ex:\n",
    "        print(ex)\n",
    "    \n",
    "    return response\n"
   ]
  },
  {
   "cell_type": "code",
   "execution_count": 5,
   "metadata": {},
   "outputs": [
    {
     "name": "stdout",
     "output_type": "stream",
     "text": [
      "Daisy, Daisy, give me your answer, do. I'm half crazy all for the love of you. It won't be a stylish marriage. I can't afford a marriage. And you have seen the best you'll see. I'm half crazy all for the love of you.\n",
      "\n"
     ]
    }
   ],
   "source": [
    "audio_file= open(\"../../data/daisy_HAL_9000.wav\", \"rb\")\n",
    "\n",
    "transcript = get_transcription(\"\", audio_file)\n",
    "\n",
    "print(transcript)"
   ]
  }
 ],
 "metadata": {
  "kernelspec": {
   "display_name": "python-3.10.12",
   "language": "python",
   "name": "python3"
  },
  "language_info": {
   "codemirror_mode": {
    "name": "ipython",
    "version": 3
   },
   "file_extension": ".py",
   "mimetype": "text/x-python",
   "name": "python",
   "nbconvert_exporter": "python",
   "pygments_lexer": "ipython3",
   "version": "3.10.12"
  }
 },
 "nbformat": 4,
 "nbformat_minor": 2
}
