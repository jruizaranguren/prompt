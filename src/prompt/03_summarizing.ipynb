{
 "cells": [
  {
   "cell_type": "code",
   "execution_count": 56,
   "metadata": {},
   "outputs": [],
   "source": [
    "import os\n",
    "import requests\n",
    "from bs4 import BeautifulSoup\n",
    "from pypdf import PdfReader\n",
    "\n",
    "import openai\n",
    "from IPython.display import HTML\n",
    "from tenacity import (\n",
    "    retry,\n",
    "    RetryError,\n",
    "    stop_after_attempt,\n",
    "    wait_fixed,\n",
    "    wait_random\n",
    ")\n",
    "\n",
    "openai.organization = os.getenv('OPENAI_API_ORG')\n",
    "openai.api_key  = os.getenv('OPENAI_API_KEY')"
   ]
  },
  {
   "cell_type": "code",
   "execution_count": 57,
   "metadata": {},
   "outputs": [],
   "source": [
    "@retry(wait=wait_fixed(60) + wait_random(0, 2), stop=stop_after_attempt(2))\n",
    "def get_completion(prompt, model=\"gpt-3.5-turbo-16k\"):\n",
    "    messages = [{\"role\": \"user\", \"content\": prompt}]\n",
    "    response = openai.ChatCompletion.create(\n",
    "        model=model,\n",
    "        messages=messages,\n",
    "        temperature=0, # this is the degree of randomness of the model's output\n",
    "    )\n",
    "    return response.choices[0].message[\"content\"]"
   ]
  },
  {
   "cell_type": "markdown",
   "metadata": {},
   "source": [
    "## Text to summarize"
   ]
  },
  {
   "cell_type": "code",
   "execution_count": 20,
   "metadata": {},
   "outputs": [],
   "source": [
    "prod_review = \"\"\"\n",
    "Got this panda plush toy for my daughter's birthday, \\\n",
    "who loves it and takes it everywhere. It's soft and \\ \n",
    "super cute, and its face has a friendly look. It's \\ \n",
    "a bit small for what I paid though. I think there \\ \n",
    "might be other options that are bigger for the \\ \n",
    "same price. It arrived a day earlier than expected, \\ \n",
    "so I got to play with it myself before I gave it \\ \n",
    "to her.\n",
    "\"\"\""
   ]
  },
  {
   "cell_type": "code",
   "execution_count": 21,
   "metadata": {},
   "outputs": [],
   "source": [
    "# Silly test for when things go wrong\n",
    "\n",
    "# messages = [{\"role\": \"user\", \"content\": prod_review}]\n",
    "# response = openai.ChatCompletion.create(\n",
    "#        model=\"gpt-3.5-turbo-16k\",\n",
    "#        messages=messages,\n",
    "#        temperature=0, # this is the degree of randomness of the model's output\n",
    "#)\n",
    "# print(response)"
   ]
  },
  {
   "cell_type": "markdown",
   "metadata": {},
   "source": [
    "### Summarize with a word/sentence/character limit"
   ]
  },
  {
   "cell_type": "code",
   "execution_count": 22,
   "metadata": {},
   "outputs": [
    {
     "name": "stdout",
     "output_type": "stream",
     "text": [
      "This panda plush toy is loved by the reviewer's daughter, but they feel it is a bit small for the price.\n"
     ]
    }
   ],
   "source": [
    "prompt = f\"\"\"\n",
    "Your task is to generate a short summary of a product \\\n",
    "review from an ecommerce site. \n",
    "\n",
    "Summarize the review below, delimited by triple \n",
    "backticks, in at most 30 words. \n",
    "\n",
    "Review: ```{prod_review}```\n",
    "\"\"\"\n",
    "\n",
    "response = get_completion(prompt)\n",
    "print(response)"
   ]
  },
  {
   "cell_type": "raw",
   "metadata": {},
   "source": []
  },
  {
   "cell_type": "markdown",
   "metadata": {},
   "source": [
    "### Summarize with a focus on shipping and delivery"
   ]
  },
  {
   "cell_type": "code",
   "execution_count": 23,
   "metadata": {},
   "outputs": [
    {
     "name": "stdout",
     "output_type": "stream",
     "text": [
      "The customer is happy with the product but suggests offering larger options for the same price. They were pleased with the early delivery.\n"
     ]
    }
   ],
   "source": [
    "prompt = f\"\"\"\n",
    "Your task is to generate a short summary of a product \\\n",
    "review from an ecommerce site to give feedback to the \\\n",
    "Shipping deparmtment. \n",
    "\n",
    "Summarize the review below, delimited by triple \n",
    "backticks, in at most 30 words, and focusing on any aspects \\\n",
    "that mention shipping and delivery of the product. \n",
    "\n",
    "Review: ```{prod_review}```\n",
    "\"\"\"\n",
    "\n",
    "response = get_completion(prompt)\n",
    "print(response)\n"
   ]
  },
  {
   "cell_type": "markdown",
   "metadata": {},
   "source": [
    "### Summarize with a focus on price and value"
   ]
  },
  {
   "cell_type": "code",
   "execution_count": 24,
   "metadata": {},
   "outputs": [
    {
     "name": "stdout",
     "output_type": "stream",
     "text": [
      "The customer loves the panda plush toy for its softness and cuteness, but feels it is overpriced compared to other options available.\n"
     ]
    }
   ],
   "source": [
    "prompt = f\"\"\"\n",
    "Your task is to generate a short summary of a product \\\n",
    "review from an ecommerce site to give feedback to the \\\n",
    "pricing deparmtment, responsible for determining the \\\n",
    "price of the product.  \n",
    "\n",
    "Summarize the review below, delimited by triple \n",
    "backticks, in at most 30 words, and focusing on any aspects \\\n",
    "that are relevant to the price and perceived value. \n",
    "\n",
    "Review: ```{prod_review}```\n",
    "\"\"\"\n",
    "\n",
    "response = get_completion(prompt)\n",
    "print(response)\n"
   ]
  },
  {
   "cell_type": "markdown",
   "metadata": {},
   "source": [
    "### Try to extract instead of summarize"
   ]
  },
  {
   "cell_type": "code",
   "execution_count": 25,
   "metadata": {},
   "outputs": [
    {
     "name": "stdout",
     "output_type": "stream",
     "text": [
      "The relevant information for the Shipping department is that the product arrived a day earlier than expected.\n"
     ]
    }
   ],
   "source": [
    "prompt = f\"\"\"\n",
    "Your task is to extract relevant information from \\ \n",
    "a product review from an ecommerce site to give \\\n",
    "feedback to the Shipping department. \n",
    "\n",
    "From the review below, delimited by triple quotes \\\n",
    "extract the information relevant to shipping and \\ \n",
    "delivery. Limit to 30 words. \n",
    "\n",
    "Review: ```{prod_review}```\n",
    "\"\"\"\n",
    "\n",
    "response = get_completion(prompt)\n",
    "print(response)"
   ]
  },
  {
   "cell_type": "markdown",
   "metadata": {},
   "source": [
    "### Summarize multiple product reviews"
   ]
  },
  {
   "cell_type": "code",
   "execution_count": 26,
   "metadata": {},
   "outputs": [],
   "source": [
    "review_1 = prod_review \n",
    "\n",
    "# review for a standing lamp\n",
    "review_2 = \"\"\"\n",
    "Needed a nice lamp for my bedroom, and this one \\\n",
    "had additional storage and not too high of a price \\\n",
    "point. Got it fast - arrived in 2 days. The string \\\n",
    "to the lamp broke during the transit and the company \\\n",
    "happily sent over a new one. Came within a few days \\\n",
    "as well. It was easy to put together. Then I had a \\\n",
    "missing part, so I contacted their support and they \\\n",
    "very quickly got me the missing piece! Seems to me \\\n",
    "to be a great company that cares about their customers \\\n",
    "and products. \n",
    "\"\"\"\n",
    "\n",
    "# review for an electric toothbrush\n",
    "review_3 = \"\"\"\n",
    "My dental hygienist recommended an electric toothbrush, \\\n",
    "which is why I got this. The battery life seems to be \\\n",
    "pretty impressive so far. After initial charging and \\\n",
    "leaving the charger plugged in for the first week to \\\n",
    "condition the battery, I've unplugged the charger and \\\n",
    "been using it for twice daily brushing for the last \\\n",
    "3 weeks all on the same charge. But the toothbrush head \\\n",
    "is too small. I’ve seen baby toothbrushes bigger than \\\n",
    "this one. I wish the head was bigger with different \\\n",
    "length bristles to get between teeth better because \\\n",
    "this one doesn’t.  Overall if you can get this one \\\n",
    "around the $50 mark, it's a good deal. The manufactuer's \\\n",
    "replacements heads are pretty expensive, but you can \\\n",
    "get generic ones that're more reasonably priced. This \\\n",
    "toothbrush makes me feel like I've been to the dentist \\\n",
    "every day. My teeth feel sparkly clean! \n",
    "\"\"\"\n",
    "\n",
    "# review for a blender\n",
    "review_4 = \"\"\"\n",
    "So, they still had the 17 piece system on seasonal \\\n",
    "sale for around $49 in the month of November, about \\\n",
    "half off, but for some reason (call it price gouging) \\\n",
    "around the second week of December the prices all went \\\n",
    "up to about anywhere from between $70-$89 for the same \\\n",
    "system. And the 11 piece system went up around $10 or \\\n",
    "so in price also from the earlier sale price of $29. \\\n",
    "So it looks okay, but if you look at the base, the part \\\n",
    "where the blade locks into place doesn’t look as good \\\n",
    "as in previous editions from a few years ago, but I \\\n",
    "plan to be very gentle with it (example, I crush \\\n",
    "very hard items like beans, ice, rice, etc. in the \\ \n",
    "blender first then pulverize them in the serving size \\\n",
    "I want in the blender then switch to the whipping \\\n",
    "blade for a finer flour, and use the cross cutting blade \\\n",
    "first when making smoothies, then use the flat blade \\\n",
    "if I need them finer/less pulpy). Special tip when making \\\n",
    "smoothies, finely cut and freeze the fruits and \\\n",
    "vegetables (if using spinach-lightly stew soften the \\ \n",
    "spinach then freeze until ready for use-and if making \\\n",
    "sorbet, use a small to medium sized food processor) \\ \n",
    "that you plan to use that way you can avoid adding so \\\n",
    "much ice if at all-when making your smoothie. \\\n",
    "After about a year, the motor was making a funny noise. \\\n",
    "I called customer service but the warranty expired \\\n",
    "already, so I had to buy another one. FYI: The overall \\\n",
    "quality has gone done in these types of products, so \\\n",
    "they are kind of counting on brand recognition and \\\n",
    "consumer loyalty to maintain sales. Got it in about \\\n",
    "two days.\n",
    "\"\"\"\n",
    "\n",
    "reviews = [review_1, review_2, review_3, review_4]"
   ]
  },
  {
   "cell_type": "code",
   "execution_count": 27,
   "metadata": {},
   "outputs": [
    {
     "data": {
      "text/html": [
       "Review 1:\n",
       "<table>\n",
       "  <tr>\n",
       "    <th>😊</th>\n",
       "    <th>😞</th>\n",
       "  </tr>\n",
       "  <tr>\n",
       "    <td>Got this panda plush toy for my daughter's birthday, who loves it and takes it everywhere. It's soft and super cute, and its face has a friendly look.</td>\n",
       "    <td>It's a bit small for what I paid though. I think there might be other options that are bigger for the same price.</td>\n",
       "  </tr>\n",
       "  <tr>\n",
       "    <td>It arrived a day earlier than expected, so I got to play with it myself before I gave it to her.</td>\n",
       "    <td></td>\n",
       "  </tr>\n",
       "</table>"
      ],
      "text/plain": [
       "<IPython.core.display.HTML object>"
      ]
     },
     "metadata": {},
     "output_type": "display_data"
    },
    {
     "data": {
      "text/html": [
       "Review 1:\n",
       "<table>\n",
       "  <tr>\n",
       "    <th>😊</th>\n",
       "    <th>😞</th>\n",
       "  </tr>\n",
       "  <tr>\n",
       "    <td>Needed a nice lamp for my bedroom, and this one had additional storage and not too high of a price point.</td>\n",
       "    <td></td>\n",
       "  </tr>\n",
       "  <tr>\n",
       "    <td>Got it fast - arrived in 2 days.</td>\n",
       "    <td></td>\n",
       "  </tr>\n",
       "  <tr>\n",
       "    <td>The string to the lamp broke during the transit and the company happily sent over a new one.</td>\n",
       "    <td></td>\n",
       "  </tr>\n",
       "  <tr>\n",
       "    <td>Came within a few days as well.</td>\n",
       "    <td></td>\n",
       "  </tr>\n",
       "  <tr>\n",
       "    <td>It was easy to put together.</td>\n",
       "    <td></td>\n",
       "  </tr>\n",
       "  <tr>\n",
       "    <td>Then I had a missing part, so I contacted their support and they very quickly got me the missing piece!</td>\n",
       "    <td></td>\n",
       "  </tr>\n",
       "  <tr>\n",
       "    <td>Seems to me to be a great company that cares about their customers and products.</td>\n",
       "    <td></td>\n",
       "  </tr>\n",
       "</table>"
      ],
      "text/plain": [
       "<IPython.core.display.HTML object>"
      ]
     },
     "metadata": {},
     "output_type": "display_data"
    },
    {
     "data": {
      "text/html": [
       "Review 1:\n",
       "<table>\n",
       "  <tr>\n",
       "    <th>😃 Positive</th>\n",
       "    <th>😞 Negative</th>\n",
       "  </tr>\n",
       "  <tr>\n",
       "    <td>Battery life is impressive.</td>\n",
       "    <td>Toothbrush head is too small.</td>\n",
       "  </tr>\n",
       "  <tr>\n",
       "    <td>Good deal if around $50.</td>\n",
       "    <td>Manufacturer's replacement heads are expensive.</td>\n",
       "  </tr>\n",
       "  <tr>\n",
       "    <td>Makes teeth feel sparkly clean.</td>\n",
       "    <td></td>\n",
       "  </tr>\n",
       "</table>"
      ],
      "text/plain": [
       "<IPython.core.display.HTML object>"
      ]
     },
     "metadata": {},
     "output_type": "display_data"
    },
    {
     "data": {
      "text/html": [
       "Review 1:\n",
       "<table>\n",
       "  <tr>\n",
       "    <th>😃 Positive</th>\n",
       "    <th>😞 Negative</th>\n",
       "  </tr>\n",
       "  <tr>\n",
       "    <td>Still had the 17 piece system on sale for $49 in November.</td>\n",
       "    <td>Prices increased to $70-$89 in December.</td>\n",
       "  </tr>\n",
       "  <tr>\n",
       "    <td>11 piece system also increased in price.</td>\n",
       "    <td>Base doesn't look as good as previous editions.</td>\n",
       "  </tr>\n",
       "  <tr>\n",
       "    <td>Plan to be gentle with it and use different blades for different purposes.</td>\n",
       "    <td>Motor started making a funny noise after a year.</td>\n",
       "  </tr>\n",
       "  <tr>\n",
       "    <td>Customer service couldn't help due to expired warranty.</td>\n",
       "    <td>Overall quality of the product has declined.</td>\n",
       "  </tr>\n",
       "  <tr>\n",
       "    <td>Received the product in about two days.</td>\n",
       "    <td></td>\n",
       "  </tr>\n",
       "</table>"
      ],
      "text/plain": [
       "<IPython.core.display.HTML object>"
      ]
     },
     "metadata": {},
     "output_type": "display_data"
    }
   ],
   "source": [
    "for i in range(len(reviews)):\n",
    "    prompt = f\"\"\"\n",
    "    Your task is to generate a short summary of a product \\ \n",
    "    review from an ecommerce site. \n",
    "\n",
    "    Summarize the review below, delimited by triple \\\n",
    "    backticks in at most 20 words. \n",
    "\n",
    "    Then, format it as HTML so we can display it in a \\\n",
    "    website as a table. The table would be preceeded by the review number, \\\n",
    "    then the table will have two columns, \\\n",
    "    the header will have a positive emoji in the left column \\\n",
    "    and a negative emoji in the right column. \\\n",
    "    Review lines will be separated by positive and negative sentiments \\\n",
    "    Review lines with positive sentiment will be written in cells  \\\n",
    "    belonging to the positive column, and review lines with negative \\\n",
    "    sentiment will be written in cells belonging to the negative column.\n",
    "\n",
    "    Review: ```{reviews[i]}```\n",
    "    \"\"\"\n",
    "\n",
    "    response = get_completion(prompt)\n",
    "    display(HTML(response))\n",
    "    \n"
   ]
  },
  {
   "cell_type": "markdown",
   "metadata": {},
   "source": [
    "## Scrap and prompt"
   ]
  },
  {
   "cell_type": "code",
   "execution_count": 28,
   "metadata": {},
   "outputs": [],
   "source": [
    "url = \"https://redeem-tomorrow.com/leviathan-wakes-the-case-for-apples-vision-pro\"\n",
    "\n",
    "response = requests.get(url)\n",
    "soup = BeautifulSoup(response.content, \"html.parser\")\n",
    "div_tag = soup.find(\"div\", class_=\"e-content\")\n",
    "\n",
    "post_content = div_tag.get_text()\n"
   ]
  },
  {
   "cell_type": "code",
   "execution_count": 29,
   "metadata": {},
   "outputs": [
    {
     "data": {
      "text/html": [
       "Apple's new VR headset, called Vision Pro, is set to revolutionize the VR/AR/XR industry. Unlike existing VR hardware, Vision Pro is designed to overcome the limitations of current displays and provide a high-quality, immersive experience. The headset features ultra-dense 4K+ displays for each eye, custom silicon for sensor processing, and a range of sensors and cameras for enhanced functionality. While the $3,500 price tag may seem steep, Apple's investment in creating a top-of-the-line device sets the stage for future advancements in augmented reality wearable technology.\n",
       "\n",
       "The author argues that existing VR hardware, such as Oculus and Vive, is underpowered and lacks support from a large ecosystem. In contrast, Apple has spared no expense in creating a device that offers a range of features and capabilities. While not all of the sensors and widgets may be necessary for a great experience, developers will have the opportunity to explore the possibilities and create innovative applications. As manufacturing processes improve and capacity increases, Apple will be able to offer simplified models at lower costs, further expanding the market for VR/AR technology.\n",
       "\n",
       "The author believes that VR/AR technology is the next paradigm shift in computing, similar to the introduction of cell phones and personal computers. By interposing a device between the eyes and the world, VR/AR technology offers an ultimate display experience. While the technology is still in its early stages, the author predicts that as it becomes more affordable, lightweight, and energy-efficient, it will become more accessible to a wider audience. This will unlock new possibilities for creativity, collaboration, and expression.\n",
       "\n",
       "In conclusion, Apple's Vision Pro VR headset represents a significant advancement in the VR/AR/XR industry. With its high-quality displays, advanced sensors, and extensive ecosystem support, it has the potential to redefine the possibilities of augmented reality. While the price may be a barrier for some, the author believes that Apple's investment in creating a top-of-the-line device will pave the way for future advancements and a more affordable market. The author is eager to see how this new paradigm of computing will unfold and what can be achieved with a limitless monitor."
      ],
      "text/plain": [
       "<IPython.core.display.HTML object>"
      ]
     },
     "metadata": {},
     "output_type": "display_data"
    }
   ],
   "source": [
    "prompt = f\"\"\"\n",
    "Your task is to generate a short summary of the post below, \\\n",
    "delimited by triple backticks in at most 200 words and three paragraphs.\n",
    "\n",
    "Please format it in HTML so we ca display it as output of a jupyter notebook.\n",
    "\n",
    "Post: ```{post_content}```\n",
    "\"\"\"\n",
    "\n",
    "response = get_completion(prompt)\n",
    "display(HTML(response))"
   ]
  },
  {
   "cell_type": "code",
   "execution_count": 3,
   "metadata": {},
   "outputs": [],
   "source": [
    "url = \"https://educatedguesswork.org/posts/wei/\"\n",
    "\n",
    "response = requests.get(url)\n",
    "soup = BeautifulSoup(response.content, \"html.parser\")\n",
    "div_tag = soup.find(\"div\", class_=\"grid-main\")\n",
    "\n",
    "post_content = div_tag.get_text()"
   ]
  },
  {
   "cell_type": "code",
   "execution_count": 5,
   "metadata": {},
   "outputs": [
    {
     "data": {
      "text/html": [
       "<!DOCTYPE html>\n",
       "<html>\n",
       "<head>\n",
       "<style>\n",
       "  body {\n",
       "    font-family: Arial, sans-serif;\n",
       "    margin: 20px;\n",
       "  }\n",
       "\n",
       "  h1 {\n",
       "    color: #333;\n",
       "    font-size: 24px;\n",
       "    margin-bottom: 10px;\n",
       "  }\n",
       "\n",
       "  h2 {\n",
       "    color: #333;\n",
       "    font-size: 20px;\n",
       "    margin-bottom: 10px;\n",
       "  }\n",
       "\n",
       "  p {\n",
       "    color: #666;\n",
       "    font-size: 16px;\n",
       "    line-height: 1.5;\n",
       "    margin-bottom: 10px;\n",
       "  }\n",
       "\n",
       "  code {\n",
       "    background-color: #f5f5f5;\n",
       "    border: 1px solid #ddd;\n",
       "    border-radius: 3px;\n",
       "    color: #333;\n",
       "    font-family: Consolas, monospace;\n",
       "    padding: 2px 5px;\n",
       "  }\n",
       "\n",
       "  pre {\n",
       "    background-color: #f5f5f5;\n",
       "    border: 1px solid #ddd;\n",
       "    border-radius: 3px;\n",
       "    color: #333;\n",
       "    font-family: Consolas, monospace;\n",
       "    padding: 10px;\n",
       "    white-space: pre-wrap;\n",
       "  }\n",
       "</style>\n",
       "</head>\n",
       "<body>\n",
       "<h1>The endpoint of Web Environment Integrity is a closed Web</h1>\n",
       "<p>Posted by ekr on 18 Aug 2023</p>\n",
       "<h2>History of Communications and Internet</h2>\n",
       "<p>The first communications network available to regular people was the telephone. The telephone network was essentially a monopoly operated by AT&T until 1983. Customers rented phones from a subsidiary of AT&T called Western Electric. In 1968, the FCC allowed consumers to connect their own equipment to the phone network, which opened the door for innovation and the use of the phone network for data transmission. At the same time, the first primitive computer networks were being constructed, leading to the development of the Internet as an open system. The Web, built on similar principles as the Internet, became the dominant paradigm for application delivery.</p>\n",
       "<h2>Impact of Mobile Applications in Closed Platforms</h2>\n",
       "<p>The opening of the iOS app store in 2008 standardized the process of downloading, installing, and updating mobile applications, leading to the rapid adoption of mobile apps as the dominant mode of mobile usage. However, mobile apps in closed platforms are less open compared to the Web. The vendor controls both the client and the server, limiting the user's control over their own experience and preventing modifications to the behavior of the app.</p>\n",
       "<h2>Opinions on WEI Proposal</h2>\n",
       "<p>The Web Environment Integrity (WEI) proposal for attestation in remote Web browsing is criticized for imposing a closed system model on the open system of the Web. The proposal aims to attest to the legitimacy of the underlying hardware and software stack, but it restricts the user's control over their own experience and limits the ability to run alternative browsers or modify the behavior of the browser. The proposal's use cases, such as preventing ad blocking or game cheating, require attestation to cover the software itself, which goes against the principles of an open system. WEI represents an attempt to impose control and restrict user freedom in the Web environment.</p>\n",
       "</body>\n",
       "</html>"
      ],
      "text/plain": [
       "<IPython.core.display.HTML object>"
      ]
     },
     "metadata": {},
     "output_type": "display_data"
    }
   ],
   "source": [
    "prompt = f\"\"\"\n",
    "Your task is to generate a short summary of the post below delimited by triple backticks, \\\n",
    "It should have threee sections, \\\n",
    "one describing the history of communications and internet, and the keys of its success, in less than 200 words \\\n",
    "then a section discussing the impact of mobile applications in closed platforms in less than 100 words \\n\n",
    "and another one summarizing the opinions of the author regarding WEI proposal. \\\n",
    "\n",
    "Please format it in HTML so we ca display it as output of a jupyter notebook.\n",
    "\n",
    "Post: ```{post_content}```\n",
    "\"\"\"\n",
    "\n",
    "response = get_completion(prompt)\n",
    "display(HTML(response))"
   ]
  },
  {
   "cell_type": "markdown",
   "metadata": {},
   "source": [
    "## Summarize from long PDF file by chapters"
   ]
  },
  {
   "cell_type": "code",
   "execution_count": 3,
   "metadata": {},
   "outputs": [],
   "source": [
    "reader = PdfReader(\"../../data/some_pdf_here.pdf\") # you need to put something here\n",
    "number_of_pages = len(reader.pages)\n",
    "\n",
    "\n"
   ]
  },
  {
   "cell_type": "code",
   "execution_count": 41,
   "metadata": {},
   "outputs": [],
   "source": [
    "def get_chapter_ranges(reader, num_pages):\n",
    "    starts = []\n",
    "    for page in reader.pages:\n",
    "        lines = page.extract_text().splitlines()\n",
    "        if lines and \"Chapter\" in lines[0]:\n",
    "            starts.append(page.page_number)\n",
    "    return zip(starts, starts[1:] + [num_pages])\n"
   ]
  },
  {
   "cell_type": "code",
   "execution_count": 25,
   "metadata": {},
   "outputs": [
    {
     "name": "stdout",
     "output_type": "stream",
     "text": [
      "[(37, 49), (49, 65), (65, 79), (79, 103), (103, 113), (113, 135), (135, 171), (171, 177), (177, 187), (187, 193), (193, 223), (223, 247), (247, 259), (259, 267), (267, 295), (295, 307), (307, 327), (327, 369)]\n"
     ]
    }
   ],
   "source": [
    "print(list(get_chapter_ranges(reader, number_of_pages)))"
   ]
  },
  {
   "cell_type": "code",
   "execution_count": 42,
   "metadata": {},
   "outputs": [],
   "source": [
    "def get_chapters(reader):\n",
    "    number_of_pages = len(reader.pages)\n",
    "    chapters = get_chapter_ranges(reader, number_of_pages)\n",
    "    for chapter in chapters:\n",
    "        start, end = chapter\n",
    "        yield [reader.pages[n] for n in range(start, end)]"
   ]
  },
  {
   "cell_type": "code",
   "execution_count": 46,
   "metadata": {},
   "outputs": [],
   "source": [
    "def get_chapters_text(chapters):\n",
    "    for chapter in chapters:\n",
    "        text = \"\"\n",
    "        for page in chapter:\n",
    "            text += page.extract_text()\n",
    "        yield text"
   ]
  },
  {
   "cell_type": "code",
   "execution_count": 58,
   "metadata": {},
   "outputs": [
    {
     "name": "stdout",
     "output_type": "stream",
     "text": [
      "Procesed chapter 0 with 4114 words\n",
      "Procesed chapter 1 with 4185 words\n",
      "Procesed chapter 2 with 4132 words\n",
      "Procesed chapter 3 with 6441 words\n",
      "Procesed chapter 4 with 2620 words\n",
      "Procesed chapter 5 with 4730 words\n",
      "Procesed chapter 6 with 9977 words\n",
      "Procesed chapter 7 with 1685 words\n",
      "Procesed chapter 8 with 2444 words\n",
      "Procesed chapter 9 with 1018 words\n",
      "Procesed chapter 10 with 7712 words\n",
      "Procesed chapter 11 with 5831 words\n",
      "Procesed chapter 12 with 3568 words\n",
      "Procesed chapter 13 with 2283 words\n",
      "Procesed chapter 14 with 8453 words\n",
      "Procesed chapter 15 with 3852 words\n",
      "Procesed chapter 16 with 5939 words\n",
      "Error processing chapter 17 with 12783 words\n"
     ]
    }
   ],
   "source": [
    "summaries = []\n",
    "\n",
    "for chapter, text in enumerate(get_chapters_text(get_chapters(reader))):\n",
    "    prompt = f\"\"\"\n",
    "        Your task is to generate a summary for the chapter text delimited by triple backticks of less than 300 words, \\\n",
    "\n",
    "\n",
    "        Please format it in HTML utilizing a title header with the chapter name \\\n",
    "        so we can display it as output of a jupyter notebook, with a title per summarized chapter.\n",
    "\n",
    "        Post: ```{text}```\n",
    "        \"\"\"\n",
    "    try:\n",
    "        num_words = len(text.split())\n",
    "        summaries.append(get_completion(prompt))\n",
    "        print(f\"Procesed chapter {chapter} with {num_words} words\")\n",
    "    except RetryError as exc:\n",
    "        print(f\"Error processing chapter {chapter} with {num_words} words\")\n"
   ]
  },
  {
   "cell_type": "code",
   "execution_count": 48,
   "metadata": {},
   "outputs": [
    {
     "data": {
      "text/html": [
       "<h1>Chapter 1: The Principles of API Design</h1>\n",
       "\n",
       "<p>In this chapter, the author discusses the principles of API design and the importance of collaboration, outcome-based focus, selecting the appropriate design elements, and documentation. The author emphasizes the need for organizations to recognize that Web APIs are more than just technology and require a balance of business capabilities, product thinking, and a focus on developer experience.</p>\n",
       "\n",
       "<p>The chapter also explores the elements of Web API design, including business capabilities, product thinking, and developer experience. Business capabilities describe the enablers an organization brings to the market, while product thinking focuses on designing APIs that can handle new automation opportunities with little customization effort. Developer experience is crucial for the success of an API, as it enables developers to quickly and confidently consume the API and deliver value to their customers.</p>\n",
       "\n",
       "<p>The author further explains that API design is a communication process that extends outward, involving communication across network boundaries, with consuming developers, and to the marketplace. The chapter also highlights the importance of modularization, encapsulation, loose coupling, and high cohesion in API design, as well as the concept of resource-based API design.</p>\n",
       "\n",
       "<p>The chapter concludes by introducing the five principles of Web API design: collaborative design, outcome-based focus, selecting appropriate design elements, prioritizing API documentation, and planning for the longevity of APIs.</p><h1>Chapter 2: Collaborative API Design</h1>\n",
       "<p>An API design that looks good to the designer may not be the best design to solve the problems at hand. The initial assumptions about an API design may be incorrect as the API encounters the real world of customer, partner, and workforce needs. API contract design is a separate and critical step of software delivery. Following an API design process encourages communication internally within the organization and externally between the organization and the developers ultimately tasked with integrating the API. It helps to identify incorrect assumptions and validate the assumptions that are correct. Finally, it encourages collaboration between API designers and the developers that will integrate the API.</p>\n",
       "<p>This chapter presents a design process that is flexible to meet the needs of a single API product or mid- to large-scale enterprise API platform. Organizations from as small as 10 employees to those with a staff of more than 10,000 developers have used this collaborative design process. Ultimately, it delivers business value with a customer-centric focus by applying outside-in design using the five principles outlined in Chapter 1, “The Principles of API Design.”</p>\n",
       "<p>An API design process encourages efficiency throughout the delivery process. By focusing on the API contract first, the design represents the needs of users and developers as a primary concern. Also, implementation details are less likely to leak into the API design, resulting in a fragile API design that must introduce breaking changes as implementation details change over time.</p>\n",
       "<p>A backend API is the primary blocker for any frontend delivery schedule. If frontend developers are forced to wait until the backend developers have completed the API implementation, the end-to-end delivery process will take too long. Any errors in design won’t be identified until the frontend developers start to integrate the API. Customer feedback isn’t available until all of the integration work has been completed.</p>\n",
       "<p>An API design process encourages an iterative, team-oriented design effort that allows for greater overall efficiency. The frontend and backend API teams work together to arrive at a design, then parallelize their specific tasks. Customer feedback may be incorporated earlier as well, avoiding last-minute rework efforts. As depicted in Figure 2.2, the process is repeated for each release, ensuring the design process becomes more rapid while incorporating feedback iteratively. Remember that the sooner that API design mistakes are caught, the cheaper they are to fix.</p>\n",
       "<p>Failing to adopt an API design process or adopting a process that is less than effective can lead to the antipatterns that result in negative impacts for the team and the entire organization. Review the common API design antipatterns detailed here and see if any of them resonate.</p>\n",
       "<p>An API design process is a predictable method of moving from business requirements to an API design. The goal of API design is to make it easier to discover, integrate, and deploy solutions in a way that is scalable for the organization and external parties.</p>\n",
       "<p>An API design-first approach is important, as APIs last forever. Once an API has at least one integration in production, it is nearly impossible to migrate consumers to the next version of an API. Taking an API design-first approach starts by identifying the capabilities to deliver, then moves toward an API design to meet the desired outcomes—all before writing a line of production code.</p>\n",
       "<p>The ADDR process is built loosely on concepts and practices found in DDD. However, organizations do not need to be practicing DDD, or even familiar with it, to be effective at applying the process. Those familiar with DDD may recognize some of the concepts and techniques used. However, it is important to recognize that the ADDR process may deviate from DDD practices when necessary to ensure that it remains approachable and repeatable in a variety of situations.</p>\n",
       "<p>Most software development involves several people across a variety of roles. Business leaders and product owners analyze market needs. Software architects and technical leads map out the important design decisions for the solution. Developers design and write the code that makes it all work. Designers and user experience (UX) experts pull everything together as a user interface, with an eye toward usability.</p>\n",
       "<p>The ADDR process may be integrated with any existing process. However, be prepared that some steps may seem uncertain or awkward at first. Over time, the processes will become more familiar, and the labor will be rewarded. Give the organization time to become familiar with the process. It may also be useful to spend time listing previous challenges and how the process seeks to address them.</p><h1>Chapter 3: Identify Digital Capabilities</h1>\n",
       "\n",
       "<p>In this chapter, the concept of digital capabilities and their relationship to APIs is introduced. Digital capabilities are assets that turn desired outcomes into reality through automation. They allow organizations to interact with their workforce, partners, and customers digitally. APIs are the most common manifestation of digital capabilities, as they power web and mobile apps, partner integrations, and workforce solutions.</p>\n",
       "\n",
       "<p>The chapter emphasizes the importance of stakeholder alignment in API design. API design is a communication process that should incorporate the needs of customers and deliver a great user and developer experience. It is necessary to create alignment between stakeholders and the development teams responsible for implementing the API to avoid negative consequences.</p>\n",
       "\n",
       "<p>The chapter also introduces the concept of job stories, which capture the jobs to be done for a product or service. Job stories focus on the desired outcome or accomplishment and help inform the design of digital capabilities. The chapter provides techniques for capturing job stories and addresses common challenges in writing them.</p>\n",
       "\n",
       "<p>The chapter concludes with an example of a fictitious API design project for a bookstore. The project explores the challenges involved in designing APIs to support different audiences and operations.</p><h1>Chapter 4: Capture Activities and Steps</h1>\n",
       "\n",
       "<p>The chapter begins with a quote from Alberto Brandolini, highlighting the challenges faced by software developers in unfamiliar domains. It emphasizes the need for developers to quickly understand new domains and translate them into working software.</p>\n",
       "\n",
       "<p>The chapter introduces the ADDR process, which helps bridge the gap between developers and domain experts. It focuses on capturing domain details and expected behavior using an activity-based structure. The chapter also introduces the EventStorming framework as a collaborative way to explore the domain and gain a deeper understanding.</p>\n",
       "\n",
       "<p>The chapter explains how to extend job stories into activities and steps, detailing the process of identifying activities and decomposing them into individual steps. It provides examples of activities and activity steps for a job story related to an online bookstore.</p>\n",
       "\n",
       "<p>The chapter also discusses the benefits of EventStorming, including shared understanding, establishment of a common vocabulary, and identification of unknowns. It provides recommendations for facilitating an EventStorming session and customizing the process to fit the needs of the organization.</p>\n",
       "\n",
       "<p>Overall, the chapter emphasizes the importance of capturing activities and steps to inform the design of candidate APIs and deliver the necessary digital capabilities.</p><h1>Chapter 5: Identifying API Boundaries</h1>\n",
       "\n",
       "<p>Every API provides a mental model for developers to integrate with it and produce desired outcomes. Establishing the scope and responsibilities of an API helps guide the design and contributes to a positive developer experience. Mistakes in defining API boundaries can lead to a poor developer experience.</p>\n",
       "\n",
       "<p>There are several API boundary antipatterns to avoid:</p>\n",
       "<ul>\n",
       "<li>The Mega All-in-One API Antipattern: Creating a single, large API product makes it difficult for developers to find what they need quickly. Many small API products may result in fragmentation and frustration.</li>\n",
       "<li>The Overloaded API Antipattern: Trying to design a single API that does everything for multiple products or a platform leads to an API that does nothing well.</li>\n",
       "<li>The Helper API Antipattern: APIs that have a mixture of uses but aren't cohesive as a unit confuse developers and make it difficult to use effectively.</li>\n",
       "</ul>\n",
       "\n",
       "<p>API boundaries should be identified using techniques like EventStorming and by reviewing activities and activity steps. Clear boundaries help accelerate the API design and development process by scoping APIs to specific responsibilities. The terminology used for API operations and resources should reflect the bounded context's ubiquitous language.</p>\n",
       "\n",
       "<p>APIs should be named based on their scope, outcome, or target audience. The activity steps should be separated into the corresponding API based on the boundary it represents.</p>\n",
       "\n",
       "<p>With the boundaries clearly defined, API modeling can begin in the next chapter.</p><h1>Chapter 6: API Modeling</h1>\n",
       "<p>API modeling is a technique for exploring the necessary elements of an API prior to the design and delivery process. It helps to bring together insights and artifacts from previous steps into an API profile that describes the scope and intent of the APIs needed to deliver desired outcomes. API modeling uses job stories, activities, and activity steps to produce a cohesive view of each API, called an API profile. The API profile captures characteristics about the API, including its name, scope, operations, and emitted events. API modeling is done before designing and developing begins, while the cost of change is significantly lower.</p>\n",
       "<p>The API profile structure includes the name and description of the API, the scope of the API, API operations with input and output message details, participants allowed to perform each operation, events generated by each API operation, and optional architectural requirements. API profiles can be captured in a spreadsheet or document, and collaborative tools can be used to capture and refine API profiles.</p>\n",
       "<p>The API modeling process involves five steps: capturing the API profile summary, identifying the resources, defining the resource taxonomy, adding operation events, and expanding operation details. The API model can be validated using sequence diagrams to ensure all requirements have been met, and feedback can be gathered from stakeholders before moving into the design phase.</p>\n",
       "<p>API priority and reuse can be evaluated by assessing the business and competitive value of each API, sizing the effort to build each API, and determining if there are existing APIs that can be leveraged or extended. By spending time modeling APIs, teams can clearly articulate the needs of each API, identify the effort involved in building them, and consider reusing existing APIs to save time and effort.</p><h1>Chapter 7: REST-Based API Design</h1>\n",
       "\n",
       "<p>In this chapter, the author discusses the design process for REST-based APIs. The REST interface is designed for efficient large-grain hypermedia data transfer, optimizing for the common case of the Web. The chapter presents an overview of REST and provides a step-by-step process for migrating an API profile into a REST-based API design. It explores various decisions and common design patterns, resulting in a high-level API design that applies REST-based principles.</p>\n",
       "\n",
       "<p>The chapter also covers the selection of API design elements that match the need, the definition of a REST-based API, and the architectural properties outlined in Roy Thomas Fielding's paper on REST. It explains the REST architectural constraints, including client/server, stateless, layered system, cacheable, code on demand, and uniform interface. The chapter also introduces the Richardson Maturity Model for measuring REST and discusses when to choose REST as the API style.</p>\n",
       "\n",
       "<p>The chapter concludes with a discussion on common REST design patterns, including CRUD-based APIs, extended resource lifecycle support, singleton resources, background (queued) jobs, and long-running transaction support in REST.</p><h1>Chapter 8: RPC and Query-Based API Design</h1>\n",
       "\n",
       "<p>Choosing the right architectural style for a network-based application requires an understanding of the problem domain and the communication needs of the application. This chapter explores RPC- and query-based API styles as alternatives or supplements to REST-based APIs.</p>\n",
       "\n",
       "<h2>RPC-Based API</h2>\n",
       "\n",
       "<p>RPC-based APIs execute a unit of code over the network as if it were being executed locally. The client is given a list of available procedures to invoke on the server. RPC-based APIs require a specification that supports the marshaling of the procedure invocation for the target programming language. Examples of RPC-based APIs include CORBA, XML-RPC, SOAP RPC, JSON-RPC, and gRPC.</p>\n",
       "\n",
       "<h2>gRPC Protocol</h2>\n",
       "\n",
       "<p>gRPC, created by Google, is an RPC-based API style that uses HTTP/2 for transport and Protocol Buffers for serialization. It leverages bidirectional streaming and supports multiple programming languages. gRPC requires the use of proto files to define services, methods, and messages exchanged.</p>\n",
       "\n",
       "<h2>Factors to Consider</h2>\n",
       "\n",
       "<p>When considering RPC-based APIs, it is important to note that they trade performance for tighter coupling. The integration between client and server is tightly coupled, and the serialization format is fixed. Some RPC protocols, like gRPC, require custom middleware for browser support and authorization. Additionally, gRPC depends on HTTP/2 and requires customization of HTTP request headers.</p>\n",
       "\n",
       "<h2>RPC API Design Process</h2>\n",
       "\n",
       "<p>The RPC API design process involves identifying RPC operations and detailing their request and response details. The process leverages API profiles created during API modeling. The design process is a rapid three-step process that can be adapted for other RPC-based protocols.</p>\n",
       "\n",
       "<p>Step 1: Identify RPC Operations - Migrate the list of operations into a tabular format.</p>\n",
       "<p>Step 2: Detail RPC Operations - Expand each operation's request and response details using the resource definitions captured during API modeling.</p>\n",
       "\n",
       "<p>By following these steps, API designers can effectively design RPC-based APIs.</p><h1>Chapter 8: RPC and Query-Based API Design</h1>\n",
       "\n",
       "<h2>RPC API Design</h2>\n",
       "The chapter discusses the design of an RPC-based API using the example of a Shopping Cart API. It provides a table that captures the initial RPC operations based on the API profile examples from Chapter 6. The table includes operation names, descriptions, request, and response details for each operation.\n",
       "\n",
       "<h2>Documenting the API Design</h2>\n",
       "The chapter explains the process of documenting the API design using the IDL file for the gRPC version of the Shopping Cart API. It provides a skeleton of the IDL file, which includes the definition of the service and the message structures for each operation.\n",
       "\n",
       "<h2>Query-Based API Design</h2>\n",
       "The chapter introduces the concept of query-based APIs and discusses two popular query-based API styles: OData and GraphQL. It explains the features and benefits of each style and provides examples of OData and GraphQL queries.\n",
       "\n",
       "<h2>Understanding OData</h2>\n",
       "The chapter provides an overview of OData, a query-based API protocol standardized and managed by OASIS. It explains how OData queries are made through specific resource-based URLs and supports hypermedia controls, data linking, custom actions, and functions.\n",
       "\n",
       "<h2>Exploring GraphQL</h2>\n",
       "The chapter introduces GraphQL, an RPC-based API style that supports querying and mutation of data. It explains how GraphQL operations are tunneled through a single HTTP POST or GET-based URL and how requests use the GraphQL query language to shape the response. It also discusses the challenges and benefits of using GraphQL.\n",
       "\n",
       "<h2>Query-Based API Design Process</h2>\n",
       "The chapter outlines the process of designing a query-based API, which involves designing the resource and graph structures and designing the query and mutation operations. It provides examples of resource and graph structures for a bookstore example and explains how to classify operations as queries or mutations.\n",
       "\n",
       "Overall, the chapter provides a comprehensive overview of RPC and query-based API design, including the documentation process and the design steps involved. It highlights the importance of API modeling and provides practical examples and guidelines for designing RPC and query-based APIs.<h1>Chapter 8: Query-Based API Design</h1>\n",
       "\n",
       "<p>The chapter discusses the process of designing a query-based API using the example of a shopping cart API. The first step is to identify the operations that need to be supported by the API, such as listing books, searching for books, viewing book details, and managing the cart. The operations are then categorized into queries and mutations.</p>\n",
       "\n",
       "<p>Next, the API design is documented using the chosen protocol, which in this case is GraphQL. The API is defined using a schema that specifies the queries and mutations available. The schema includes types for books, authors, and the cart, as well as input types for various operations.</p>\n",
       "\n",
       "<p>It is recommended to generate human-readable documentation for the API using tools like graphql-docs and provide an interactive interface using GraphQL Playground. The chapter also mentions that the examples provided are based on the API workshop examples available on GitHub.</p>\n",
       "\n",
       "<p>In summary, query-based APIs provide an alternative to REST-based APIs and can be combined with them to offer more flexibility and functionality. The design process for query-based APIs involves identifying operations, categorizing them into queries and mutations, documenting the API using the chosen protocol, and providing interactive documentation and interfaces for developers.</p><h1>Chapter 9: Async APIs for Eventing and Streaming</h1>\n",
       "\n",
       "<p>This chapter explores the concept of asynchronous APIs (async APIs) and their benefits over synchronous APIs. While synchronous APIs require the client to initiate the interaction with the server, async APIs allow the server to inform the client about changes or events. This opens up new possibilities for real-time reactions, extending the value of solutions with message streams, and improving API efficiency.</p>\n",
       "\n",
       "<p>The chapter discusses different async API styles, including webhooks, Server-Sent Events (SSE), WebSocket, and gRPC streaming. Each style has its own advantages and considerations, such as server-to-server communication for webhooks, browser support for SSE, bidirectional communication for WebSocket, and service-to-service communication for gRPC streaming.</p>\n",
       "\n",
       "<p>The chapter also covers the design considerations for async APIs, including command messages and event notifications. It explains the importance of message design, event ordering, and event batching. Additionally, it introduces the AsyncAPI specification for documenting async APIs.</p>\n",
       "\n",
       "<p>Overall, this chapter provides insights into the design and implementation of async APIs, empowering teams to leverage the full potential of event-driven and streaming architectures.</p><h1>Chapter 10: From APIs to Microservices</h1>\n",
       "\n",
       "<p>The chapter explores the topic of microservices, including their benefits, challenges, and alternatives. Microservices are small, independently deployed components that deliver one or a small number of bounded digital capabilities. They offer a highly complex solution using smaller building blocks than traditional service-oriented approaches. Microservices reduce team coordination and allow for faster delivery of services.</p>\n",
       "\n",
       "<p>Microservices adoption requires careful consideration of factors such as self-service infrastructure, independent release cycles, single-team ownership, organizational structure, and cultural impacts. Microservices also introduce challenges such as distributed data management, resiliency, failover, and distributed transactions. It is important to right-size microservices based on the complexity of the solution and continuously evaluate their size and boundaries.</p>\n",
       "\n",
       "<p>Organizations should also consider alternatives to microservices, such as modular monoliths and cell-based architectures, which offer similar benefits with different levels of coordination and optimization. The decision to move to microservices should be based on the specific needs and context of the organization.</p><h1>Chapter 11: Improving the Developer Experience</h1>\n",
       "\n",
       "<p>When delivering an API, it is important to prioritize the needs of API consumers. This includes creating mock APIs to gather feedback on the API design and offering helper libraries and command-line interfaces to simplify integration for developers of all skill levels.</p>\n",
       "\n",
       "<p>Mock API implementations are useful for verifying that the API design meets the needs of developers. They allow developers to integrate with the API before the actual implementation has begun, helping to identify missing functionality and data elements.</p>\n",
       "\n",
       "<p>There are three types of API mock implementations: static mocking, prototyping, and README-based mocking. Static mocking involves creating static versions of API requests and responses using JSON or XML files. Prototyping allows for more comprehensive testing of API operations, including creating and modifying resource state. README-based mocking uses README files to demonstrate API usage and desired outcomes.</p>\n",
       "\n",
       "<p>Helper libraries and SDKs (Software Development Kits) provide programming language-specific wrappers for the API, simplifying integration for developers. Provider-supported, community-contributed, and consumer-generated options are available for offering helper libraries. Versioning and documentation are important considerations for helper libraries, and thorough testing is necessary to ensure they are in sync with the latest API enhancements.</p>\n",
       "\n",
       "<p>Command-line interfaces (CLIs) offer a human-friendly way to interact with APIs and can be used for scripting, data extraction, and automation. Designing a CLI requires understanding the desired outcomes and activities and following human-first CLI design principles.</p>\n",
       "\n",
       "<p>Code generators, such as Swagger Codegen and APIMatic, can be used to generate helper libraries and SDKs based on an API description file. Organizations can also create their own code generators for more customization.</p>\n",
       "\n",
       "<p>Overall, API design should prioritize the needs of API consumers and consider the impact of design decisions on future developers. By providing mock APIs, helper libraries, and CLIs, API teams can improve the developer experience and facilitate the integration process.</p><h1>Chapter 12: API Testing Strategies</h1>\n",
       "\n",
       "<p>When building an API product or platform, it is important to have an API testing strategy established. Selecting the right approach for API testing contributes to the success of an API program’s supportability and faster delivery. Acceptance testing ensures that the API supports the captured job stories and produces the desired outcomes. Automated security testing aims to protect the API against attacks and prevent sensitive data leakage. Operational monitoring ensures that the API is available and performing as expected, staying within expected SLAs. API contract testing verifies that each API operation meets the expected behavior and honors the API’s defined contract for the consumer.</p>\n",
       "\n",
       "<p>API testing should not be replaced by user interface (UI) testing, as UI tests only cover the API as far as the UI exercises it. API testing is necessary to handle a multitude of good and bad values that may be submitted outside of a specific UI. Test-driven development (TDD) can be extended through the strategic selection of API testing tools, and API tests should become part of the continuous integration and delivery pipeline.</p>\n",
       "\n",
       "<p>Creating test data sets for APIs can be challenging, and there are two common approaches: snapshot of existing data sets and cleanroom data set creation. Snapshotting a production system and cleansing the data set is a direct path, while cleanroom data set creation involves creating cohesive data sets from scratch. API testing should be considered essential and not overlooked, as it helps ensure API correctness, reliability, and security.</p><h1>Chapter 13: Document the API Design</h1>\n",
       "\n",
       "<p>Documentation is a crucial element of the developer experience and the most important user interface for APIs. It serves as the primary communication medium between the API provider and the developers who will integrate the API into their applications and automation scripts. API consumers do not have access to the source code, so documentation is essential for understanding and using the API effectively.</p>\n",
       "\n",
       "<p>API documentation should go beyond reference documentation for each operation and include a comprehensive API documentation effort. This chapter outlines the essentials of API documentation and provides insights on how to establish and improve an API developer portal.</p>\n",
       "\n",
       "<h2>The Importance of API Documentation</h2>\n",
       "\n",
       "<p>API documentation is the primary communication medium between the API provider and the developers who will integrate the API. It should be considered a first-class user interface and not a last-minute task. Documentation allows developers to understand the API without having to read the source code, which can be time-consuming and frustrating.</p>\n",
       "\n",
       "<p>Organizing the API documentation is also crucial. Clear areas for getting started guides and reference documentation help developers find the information they need quickly. Proper organization of the documentation into a developer portal enhances the overall developer experience.</p>\n",
       "\n",
       "<h2>API Description Formats</h2>\n",
       "\n",
       "<p>API description formats provide machine-readable details of an API. These formats can be converted into human-readable documentation, generate client-side libraries, and produce server-side code with established patterns and practices.</p>\n",
       "\n",
       "<p>Popular API description formats include:</p>\n",
       "\n",
       "<ul>\n",
       "<li><strong>OpenAPI Specification (OAS)</strong>: Formerly known as Swagger, OAS is one of the most popular formats for describing API details. It is managed by the Linux Foundation and supports features like try-it-out functionality.</li>\n",
       "<li><strong>API Blueprint</strong>: API Blueprint combines Markdown with a structure that makes it machine-readable. It is based on the Apiary tool and is useful for generating documentation and supporting code generation.</li>\n",
       "<li><strong>RAML</strong>: RESTful API Modeling Language (RAML) supports the design and documentation of REST-based APIs. It is built on the YAML format and provides comprehensive support for describing resources, methods, parameters, and more.</li>\n",
       "<li><strong>JSON Schema</strong>: JSON Schema is a machine-readable format for capturing the structure and validation rules of JSON-based structures. It is used to describe resource representations for REST-based APIs and other API styles.</li>\n",
       "<li><strong>ALPS</strong>: Application-Level Profile Semantics (ALPS) is a description format for defining application-level and domain semantics. It supports multiple API styles and protocols and is useful for capturing API profiles produced during API modeling.</li>\n",
       "<li><strong>APIs.json</strong>: APIs.json is a machine-readable index file that assists in API discovery. It can reference multiple APIs and is useful for bundling separate API description files into a single view.</li>\n",
       "</ul>\n",
       "\n",
       "<h2>Improving API Discovery Using APIs.json</h2>\n",
       "\n",
       "<p>APIs.json is a description format that helps with API discovery through a machine-readable index file. It allows multiple APIs to be referenced in a single file, making it useful for bundling separate API description files into a single view. APIs.json can be combined with other machine-readable formats to enable API discovery, indexing, and availability in public or private API catalogs.</p>\n",
       "\n",
       "<h2>Effective API Documentation</h2>\n",
       "\n",
       "<p>Effective API documentation answers common questions and provides clear guidance for developers integrating the API. It should address the following questions:</p>\n",
       "\n",
       "<ol>\n",
       "<li>How does the API solve my problems?</li>\n",
       "<li>What problem does each API operation support?</li>\n",
       "<li>How do I get started using the API?</li>\n",
       "</ol>\n",
       "\n",
       "<p>API documentation should be user-centric and provide clear explanations, examples, and code snippets to help developers understand and use the API effectively. Technical writers play a crucial role in creating and maintaining API documentation, and their expertise should be leveraged throughout the API design and delivery process.</p>\n",
       "\n",
       "<h2>The Minimum Viable Portal</h2>\n",
       "\n",
       "<p>The minimum viable portal (MVP) is a phased approach to delivering a developer portal. The first phase focuses on the minimum documentation needs, including an overview, authentication details, workflows, code samples, and API reference documentation. The second phase involves improving the portal based on user feedback and adding additional features like case studies and analytics. The third phase focuses on growth and includes adding case studies, getting started guides, and incorporating analytics.</p>\n",
       "\n",
       "<h2>Tools and Frameworks for Developer Portals</h2>\n",
       "\n",
       "<p>There are various tools and frameworks available for creating and managing developer portals. Some popular options include static site generators like Jekyll and Hugo, SwaggerUI for rendering API reference documentation, and open-source or commercial tools specifically designed for creating developer portals. It is important to select tools that support machine-readable descriptions and allow for customization and integration with other tools.</p>\n",
       "\n",
       "<p>Overall, a well-designed developer portal with effective API documentation is crucial for the success of an API. It enhances the developer experience, promotes API adoption, and provides a central communication tool for API consumers.</p><h1>Chapter 14: Designing for Change</h1>\n",
       "<p>Managing change is an inevitable part of maturing an API. This chapter discusses the impact of change on existing APIs and strategies to introduce change to API designs that minimize the impact on API consumers. It emphasizes the importance of aligning business and API teams and provides recommendations for handling change when APIs already exist.</p>\n",
       "<p>The chapter also explores the concept of API versioning and different methods of implementing it, such as header-based, URI-based, and hostname-based versioning. It highlights the importance of considering the business implications of API versioning and establishing a deprecation policy to communicate changes to API consumers effectively.</p>\n",
       "<p>Additionally, the chapter emphasizes the need for an API stability contract to establish expectations of change between the API provider and its consumers. It suggests different levels of support and longevity for API operations or products, ranging from experimental to retired.</p>\n",
       "<p>Overall, the chapter provides valuable insights and strategies for managing change in API design to ensure the trust and satisfaction of API consumers.</p><h1>Chapter 15: Protecting APIs</h1>\n",
       "\n",
       "<p>API design doesn’t stop at HTTP methods, paths, resources, and media types. Protecting APIs from malicious attackers is an essential part of API design. If left unprotected, an API can become an open door that can cause irreparable damage to an organization and its customers. This chapter outlines foundational principles and provides guidance on common practices and antipatterns to avoid when approaching an API protection strategy.</p>\n",
       "\n",
       "<p>Some recent API security breaches have highlighted the vulnerabilities and consequences that can occur when using APIs. These breaches range from gaining access to user databases to exposing sensitive data and jeopardizing the safety of individuals. It is crucial for API providers to implement proper security measures to prevent these types of breaches.</p>\n",
       "\n",
       "<p>API protection practices include authentication, authorization, claims, rate limiting, quotas, session hijack prevention, cryptography, mutual TLS, protocol filtering and protection, message validation, data scraping and botnet protection, and review and scanning. These practices work together to ensure the security of an API and prevent unauthorized access and attacks.</p>\n",
       "\n",
       "<p>There are several components that can be used to protect APIs, including API gateways, API management layers, service meshes, web application firewalls, and content delivery networks. These components form the foundation of a security strategy for APIs and provide various features and capabilities to protect against different types of threats.</p>\n",
       "\n",
       "<p>Identity and access management (IAM) is another important aspect of API protection. IAM provides authentication and authorization services, generates API tokens, and ensures that only authorized users and applications can access the API. OAuth 2.0 and OpenID Connect are industry-standard frameworks that can be used for authentication and authorization in API security.</p>\n",
       "\n",
       "<p>Building an in-house API gateway or using helper libraries for authentication and authorization is not recommended. API security is a complex and ever-evolving field, and it is best to leverage third-party solutions that are designed and maintained by security experts.</p>\n",
       "\n",
       "<p>Overall, protecting APIs requires a comprehensive approach that includes the right components, proper authentication and authorization mechanisms, and ongoing monitoring and updates to ensure the security of the API and the organization.</p>"
      ],
      "text/plain": [
       "<IPython.core.display.HTML object>"
      ]
     },
     "metadata": {},
     "output_type": "display_data"
    }
   ],
   "source": [
    "display(HTML(\"\".join(summaries)))\n"
   ]
  },
  {
   "cell_type": "code",
   "execution_count": null,
   "metadata": {},
   "outputs": [],
   "source": []
  }
 ],
 "metadata": {
  "kernelspec": {
   "display_name": "Python 3 (ipykernel)",
   "language": "python",
   "name": "python3"
  },
  "language_info": {
   "codemirror_mode": {
    "name": "ipython",
    "version": 3
   },
   "file_extension": ".py",
   "mimetype": "text/x-python",
   "name": "python",
   "nbconvert_exporter": "python",
   "pygments_lexer": "ipython3",
   "version": "3.10.12"
  }
 },
 "nbformat": 4,
 "nbformat_minor": 2
}
