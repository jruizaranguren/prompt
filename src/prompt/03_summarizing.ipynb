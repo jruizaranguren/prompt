{
 "cells": [
  {
   "cell_type": "code",
   "execution_count": 1,
   "metadata": {},
   "outputs": [],
   "source": [
    "import os\n",
    "import requests\n",
    "from bs4 import BeautifulSoup\n",
    "from pypdf import PdfReader\n",
    "\n",
    "import openai\n",
    "from IPython.display import HTML\n",
    "from tenacity import (\n",
    "    retry,\n",
    "    stop_after_attempt,\n",
    "    wait_random_exponential,\n",
    ")\n",
    "\n",
    "openai.organization = os.getenv('OPENAI_API_ORG')\n",
    "openai.api_key  = os.getenv('OPENAI_API_KEY')"
   ]
  },
  {
   "cell_type": "code",
   "execution_count": 2,
   "metadata": {},
   "outputs": [],
   "source": [
    "@retry(wait=wait_random_exponential(multiplier=1, min=4, max=60), stop=stop_after_attempt(6))\n",
    "def get_completion(prompt, model=\"gpt-3.5-turbo-16k\"):\n",
    "    messages = [{\"role\": \"user\", \"content\": prompt}]\n",
    "    response = openai.ChatCompletion.create(\n",
    "        model=model,\n",
    "        messages=messages,\n",
    "        temperature=0, # this is the degree of randomness of the model's output\n",
    "    )\n",
    "    return response.choices[0].message[\"content\"]"
   ]
  },
  {
   "cell_type": "markdown",
   "metadata": {},
   "source": [
    "## Text to summarize"
   ]
  },
  {
   "cell_type": "code",
   "execution_count": 20,
   "metadata": {},
   "outputs": [],
   "source": [
    "prod_review = \"\"\"\n",
    "Got this panda plush toy for my daughter's birthday, \\\n",
    "who loves it and takes it everywhere. It's soft and \\ \n",
    "super cute, and its face has a friendly look. It's \\ \n",
    "a bit small for what I paid though. I think there \\ \n",
    "might be other options that are bigger for the \\ \n",
    "same price. It arrived a day earlier than expected, \\ \n",
    "so I got to play with it myself before I gave it \\ \n",
    "to her.\n",
    "\"\"\""
   ]
  },
  {
   "cell_type": "code",
   "execution_count": 21,
   "metadata": {},
   "outputs": [],
   "source": [
    "# Silly test for when things go wrong\n",
    "\n",
    "# messages = [{\"role\": \"user\", \"content\": prod_review}]\n",
    "# response = openai.ChatCompletion.create(\n",
    "#        model=\"gpt-3.5-turbo-16k\",\n",
    "#        messages=messages,\n",
    "#        temperature=0, # this is the degree of randomness of the model's output\n",
    "#)\n",
    "# print(response)"
   ]
  },
  {
   "cell_type": "markdown",
   "metadata": {},
   "source": [
    "### Summarize with a word/sentence/character limit"
   ]
  },
  {
   "cell_type": "code",
   "execution_count": 22,
   "metadata": {},
   "outputs": [
    {
     "name": "stdout",
     "output_type": "stream",
     "text": [
      "This panda plush toy is loved by the reviewer's daughter, but they feel it is a bit small for the price.\n"
     ]
    }
   ],
   "source": [
    "prompt = f\"\"\"\n",
    "Your task is to generate a short summary of a product \\\n",
    "review from an ecommerce site. \n",
    "\n",
    "Summarize the review below, delimited by triple \n",
    "backticks, in at most 30 words. \n",
    "\n",
    "Review: ```{prod_review}```\n",
    "\"\"\"\n",
    "\n",
    "response = get_completion(prompt)\n",
    "print(response)"
   ]
  },
  {
   "cell_type": "raw",
   "metadata": {},
   "source": []
  },
  {
   "cell_type": "markdown",
   "metadata": {},
   "source": [
    "### Summarize with a focus on shipping and delivery"
   ]
  },
  {
   "cell_type": "code",
   "execution_count": 23,
   "metadata": {},
   "outputs": [
    {
     "name": "stdout",
     "output_type": "stream",
     "text": [
      "The customer is happy with the product but suggests offering larger options for the same price. They were pleased with the early delivery.\n"
     ]
    }
   ],
   "source": [
    "prompt = f\"\"\"\n",
    "Your task is to generate a short summary of a product \\\n",
    "review from an ecommerce site to give feedback to the \\\n",
    "Shipping deparmtment. \n",
    "\n",
    "Summarize the review below, delimited by triple \n",
    "backticks, in at most 30 words, and focusing on any aspects \\\n",
    "that mention shipping and delivery of the product. \n",
    "\n",
    "Review: ```{prod_review}```\n",
    "\"\"\"\n",
    "\n",
    "response = get_completion(prompt)\n",
    "print(response)\n"
   ]
  },
  {
   "cell_type": "markdown",
   "metadata": {},
   "source": [
    "### Summarize with a focus on price and value"
   ]
  },
  {
   "cell_type": "code",
   "execution_count": 24,
   "metadata": {},
   "outputs": [
    {
     "name": "stdout",
     "output_type": "stream",
     "text": [
      "The customer loves the panda plush toy for its softness and cuteness, but feels it is overpriced compared to other options available.\n"
     ]
    }
   ],
   "source": [
    "prompt = f\"\"\"\n",
    "Your task is to generate a short summary of a product \\\n",
    "review from an ecommerce site to give feedback to the \\\n",
    "pricing deparmtment, responsible for determining the \\\n",
    "price of the product.  \n",
    "\n",
    "Summarize the review below, delimited by triple \n",
    "backticks, in at most 30 words, and focusing on any aspects \\\n",
    "that are relevant to the price and perceived value. \n",
    "\n",
    "Review: ```{prod_review}```\n",
    "\"\"\"\n",
    "\n",
    "response = get_completion(prompt)\n",
    "print(response)\n"
   ]
  },
  {
   "cell_type": "markdown",
   "metadata": {},
   "source": [
    "### Try to extract instead of summarize"
   ]
  },
  {
   "cell_type": "code",
   "execution_count": 25,
   "metadata": {},
   "outputs": [
    {
     "name": "stdout",
     "output_type": "stream",
     "text": [
      "The relevant information for the Shipping department is that the product arrived a day earlier than expected.\n"
     ]
    }
   ],
   "source": [
    "prompt = f\"\"\"\n",
    "Your task is to extract relevant information from \\ \n",
    "a product review from an ecommerce site to give \\\n",
    "feedback to the Shipping department. \n",
    "\n",
    "From the review below, delimited by triple quotes \\\n",
    "extract the information relevant to shipping and \\ \n",
    "delivery. Limit to 30 words. \n",
    "\n",
    "Review: ```{prod_review}```\n",
    "\"\"\"\n",
    "\n",
    "response = get_completion(prompt)\n",
    "print(response)"
   ]
  },
  {
   "cell_type": "markdown",
   "metadata": {},
   "source": [
    "### Summarize multiple product reviews"
   ]
  },
  {
   "cell_type": "code",
   "execution_count": 26,
   "metadata": {},
   "outputs": [],
   "source": [
    "review_1 = prod_review \n",
    "\n",
    "# review for a standing lamp\n",
    "review_2 = \"\"\"\n",
    "Needed a nice lamp for my bedroom, and this one \\\n",
    "had additional storage and not too high of a price \\\n",
    "point. Got it fast - arrived in 2 days. The string \\\n",
    "to the lamp broke during the transit and the company \\\n",
    "happily sent over a new one. Came within a few days \\\n",
    "as well. It was easy to put together. Then I had a \\\n",
    "missing part, so I contacted their support and they \\\n",
    "very quickly got me the missing piece! Seems to me \\\n",
    "to be a great company that cares about their customers \\\n",
    "and products. \n",
    "\"\"\"\n",
    "\n",
    "# review for an electric toothbrush\n",
    "review_3 = \"\"\"\n",
    "My dental hygienist recommended an electric toothbrush, \\\n",
    "which is why I got this. The battery life seems to be \\\n",
    "pretty impressive so far. After initial charging and \\\n",
    "leaving the charger plugged in for the first week to \\\n",
    "condition the battery, I've unplugged the charger and \\\n",
    "been using it for twice daily brushing for the last \\\n",
    "3 weeks all on the same charge. But the toothbrush head \\\n",
    "is too small. I’ve seen baby toothbrushes bigger than \\\n",
    "this one. I wish the head was bigger with different \\\n",
    "length bristles to get between teeth better because \\\n",
    "this one doesn’t.  Overall if you can get this one \\\n",
    "around the $50 mark, it's a good deal. The manufactuer's \\\n",
    "replacements heads are pretty expensive, but you can \\\n",
    "get generic ones that're more reasonably priced. This \\\n",
    "toothbrush makes me feel like I've been to the dentist \\\n",
    "every day. My teeth feel sparkly clean! \n",
    "\"\"\"\n",
    "\n",
    "# review for a blender\n",
    "review_4 = \"\"\"\n",
    "So, they still had the 17 piece system on seasonal \\\n",
    "sale for around $49 in the month of November, about \\\n",
    "half off, but for some reason (call it price gouging) \\\n",
    "around the second week of December the prices all went \\\n",
    "up to about anywhere from between $70-$89 for the same \\\n",
    "system. And the 11 piece system went up around $10 or \\\n",
    "so in price also from the earlier sale price of $29. \\\n",
    "So it looks okay, but if you look at the base, the part \\\n",
    "where the blade locks into place doesn’t look as good \\\n",
    "as in previous editions from a few years ago, but I \\\n",
    "plan to be very gentle with it (example, I crush \\\n",
    "very hard items like beans, ice, rice, etc. in the \\ \n",
    "blender first then pulverize them in the serving size \\\n",
    "I want in the blender then switch to the whipping \\\n",
    "blade for a finer flour, and use the cross cutting blade \\\n",
    "first when making smoothies, then use the flat blade \\\n",
    "if I need them finer/less pulpy). Special tip when making \\\n",
    "smoothies, finely cut and freeze the fruits and \\\n",
    "vegetables (if using spinach-lightly stew soften the \\ \n",
    "spinach then freeze until ready for use-and if making \\\n",
    "sorbet, use a small to medium sized food processor) \\ \n",
    "that you plan to use that way you can avoid adding so \\\n",
    "much ice if at all-when making your smoothie. \\\n",
    "After about a year, the motor was making a funny noise. \\\n",
    "I called customer service but the warranty expired \\\n",
    "already, so I had to buy another one. FYI: The overall \\\n",
    "quality has gone done in these types of products, so \\\n",
    "they are kind of counting on brand recognition and \\\n",
    "consumer loyalty to maintain sales. Got it in about \\\n",
    "two days.\n",
    "\"\"\"\n",
    "\n",
    "reviews = [review_1, review_2, review_3, review_4]"
   ]
  },
  {
   "cell_type": "code",
   "execution_count": 27,
   "metadata": {},
   "outputs": [
    {
     "data": {
      "text/html": [
       "Review 1:\n",
       "<table>\n",
       "  <tr>\n",
       "    <th>😊</th>\n",
       "    <th>😞</th>\n",
       "  </tr>\n",
       "  <tr>\n",
       "    <td>Got this panda plush toy for my daughter's birthday, who loves it and takes it everywhere. It's soft and super cute, and its face has a friendly look.</td>\n",
       "    <td>It's a bit small for what I paid though. I think there might be other options that are bigger for the same price.</td>\n",
       "  </tr>\n",
       "  <tr>\n",
       "    <td>It arrived a day earlier than expected, so I got to play with it myself before I gave it to her.</td>\n",
       "    <td></td>\n",
       "  </tr>\n",
       "</table>"
      ],
      "text/plain": [
       "<IPython.core.display.HTML object>"
      ]
     },
     "metadata": {},
     "output_type": "display_data"
    },
    {
     "data": {
      "text/html": [
       "Review 1:\n",
       "<table>\n",
       "  <tr>\n",
       "    <th>😊</th>\n",
       "    <th>😞</th>\n",
       "  </tr>\n",
       "  <tr>\n",
       "    <td>Needed a nice lamp for my bedroom, and this one had additional storage and not too high of a price point.</td>\n",
       "    <td></td>\n",
       "  </tr>\n",
       "  <tr>\n",
       "    <td>Got it fast - arrived in 2 days.</td>\n",
       "    <td></td>\n",
       "  </tr>\n",
       "  <tr>\n",
       "    <td>The string to the lamp broke during the transit and the company happily sent over a new one.</td>\n",
       "    <td></td>\n",
       "  </tr>\n",
       "  <tr>\n",
       "    <td>Came within a few days as well.</td>\n",
       "    <td></td>\n",
       "  </tr>\n",
       "  <tr>\n",
       "    <td>It was easy to put together.</td>\n",
       "    <td></td>\n",
       "  </tr>\n",
       "  <tr>\n",
       "    <td>Then I had a missing part, so I contacted their support and they very quickly got me the missing piece!</td>\n",
       "    <td></td>\n",
       "  </tr>\n",
       "  <tr>\n",
       "    <td>Seems to me to be a great company that cares about their customers and products.</td>\n",
       "    <td></td>\n",
       "  </tr>\n",
       "</table>"
      ],
      "text/plain": [
       "<IPython.core.display.HTML object>"
      ]
     },
     "metadata": {},
     "output_type": "display_data"
    },
    {
     "data": {
      "text/html": [
       "Review 1:\n",
       "<table>\n",
       "  <tr>\n",
       "    <th>😃 Positive</th>\n",
       "    <th>😞 Negative</th>\n",
       "  </tr>\n",
       "  <tr>\n",
       "    <td>Battery life is impressive.</td>\n",
       "    <td>Toothbrush head is too small.</td>\n",
       "  </tr>\n",
       "  <tr>\n",
       "    <td>Good deal if around $50.</td>\n",
       "    <td>Manufacturer's replacement heads are expensive.</td>\n",
       "  </tr>\n",
       "  <tr>\n",
       "    <td>Makes teeth feel sparkly clean.</td>\n",
       "    <td></td>\n",
       "  </tr>\n",
       "</table>"
      ],
      "text/plain": [
       "<IPython.core.display.HTML object>"
      ]
     },
     "metadata": {},
     "output_type": "display_data"
    },
    {
     "data": {
      "text/html": [
       "Review 1:\n",
       "<table>\n",
       "  <tr>\n",
       "    <th>😃 Positive</th>\n",
       "    <th>😞 Negative</th>\n",
       "  </tr>\n",
       "  <tr>\n",
       "    <td>Still had the 17 piece system on sale for $49 in November.</td>\n",
       "    <td>Prices increased to $70-$89 in December.</td>\n",
       "  </tr>\n",
       "  <tr>\n",
       "    <td>11 piece system also increased in price.</td>\n",
       "    <td>Base doesn't look as good as previous editions.</td>\n",
       "  </tr>\n",
       "  <tr>\n",
       "    <td>Plan to be gentle with it and use different blades for different purposes.</td>\n",
       "    <td>Motor started making a funny noise after a year.</td>\n",
       "  </tr>\n",
       "  <tr>\n",
       "    <td>Customer service couldn't help due to expired warranty.</td>\n",
       "    <td>Overall quality of the product has declined.</td>\n",
       "  </tr>\n",
       "  <tr>\n",
       "    <td>Received the product in about two days.</td>\n",
       "    <td></td>\n",
       "  </tr>\n",
       "</table>"
      ],
      "text/plain": [
       "<IPython.core.display.HTML object>"
      ]
     },
     "metadata": {},
     "output_type": "display_data"
    }
   ],
   "source": [
    "for i in range(len(reviews)):\n",
    "    prompt = f\"\"\"\n",
    "    Your task is to generate a short summary of a product \\ \n",
    "    review from an ecommerce site. \n",
    "\n",
    "    Summarize the review below, delimited by triple \\\n",
    "    backticks in at most 20 words. \n",
    "\n",
    "    Then, format it as HTML so we can display it in a \\\n",
    "    website as a table. The table would be preceeded by the review number, \\\n",
    "    then the table will have two columns, \\\n",
    "    the header will have a positive emoji in the left column \\\n",
    "    and a negative emoji in the right column. \\\n",
    "    Review lines will be separated by positive and negative sentiments \\\n",
    "    Review lines with positive sentiment will be written in cells  \\\n",
    "    belonging to the positive column, and review lines with negative \\\n",
    "    sentiment will be written in cells belonging to the negative column.\n",
    "\n",
    "    Review: ```{reviews[i]}```\n",
    "    \"\"\"\n",
    "\n",
    "    response = get_completion(prompt)\n",
    "    display(HTML(response))\n",
    "    \n"
   ]
  },
  {
   "cell_type": "markdown",
   "metadata": {},
   "source": [
    "## Scrap and prompt"
   ]
  },
  {
   "cell_type": "code",
   "execution_count": 28,
   "metadata": {},
   "outputs": [],
   "source": [
    "url = \"https://redeem-tomorrow.com/leviathan-wakes-the-case-for-apples-vision-pro\"\n",
    "\n",
    "response = requests.get(url)\n",
    "soup = BeautifulSoup(response.content, \"html.parser\")\n",
    "div_tag = soup.find(\"div\", class_=\"e-content\")\n",
    "\n",
    "post_content = div_tag.get_text()\n"
   ]
  },
  {
   "cell_type": "code",
   "execution_count": 29,
   "metadata": {},
   "outputs": [
    {
     "data": {
      "text/html": [
       "Apple's new VR headset, called Vision Pro, is set to revolutionize the VR/AR/XR industry. Unlike existing VR hardware, Vision Pro is designed to overcome the limitations of current displays and provide a high-quality, immersive experience. The headset features ultra-dense 4K+ displays for each eye, custom silicon for sensor processing, and a range of sensors and cameras for enhanced functionality. While the $3,500 price tag may seem steep, Apple's investment in creating a top-of-the-line device sets the stage for future advancements in augmented reality wearable technology.\n",
       "\n",
       "The author argues that existing VR hardware, such as Oculus and Vive, is underpowered and lacks support from a large ecosystem. In contrast, Apple has spared no expense in creating a device that offers a range of features and capabilities. While not all of the sensors and widgets may be necessary for a great experience, developers will have the opportunity to explore the possibilities and create innovative applications. As manufacturing processes improve and capacity increases, Apple will be able to offer simplified models at lower costs, further expanding the market for VR/AR technology.\n",
       "\n",
       "The author believes that VR/AR technology is the next paradigm shift in computing, similar to the introduction of cell phones and personal computers. By interposing a device between the eyes and the world, VR/AR technology offers an ultimate display experience. While the technology is still in its early stages, the author predicts that as it becomes more affordable, lightweight, and energy-efficient, it will become more accessible to a wider audience. This will unlock new possibilities for creativity, collaboration, and expression.\n",
       "\n",
       "In conclusion, Apple's Vision Pro VR headset represents a significant advancement in the VR/AR/XR industry. With its high-quality displays, advanced sensors, and extensive ecosystem support, it has the potential to redefine the possibilities of augmented reality. While the price may be a barrier for some, the author believes that Apple's investment in creating a top-of-the-line device will pave the way for future advancements and a more affordable market. The author is eager to see how this new paradigm of computing will unfold and what can be achieved with a limitless monitor."
      ],
      "text/plain": [
       "<IPython.core.display.HTML object>"
      ]
     },
     "metadata": {},
     "output_type": "display_data"
    }
   ],
   "source": [
    "prompt = f\"\"\"\n",
    "Your task is to generate a short summary of the post below, \\\n",
    "delimited by triple backticks in at most 200 words and three paragraphs.\n",
    "\n",
    "Please format it in HTML so we ca display it as output of a jupyter notebook.\n",
    "\n",
    "Post: ```{post_content}```\n",
    "\"\"\"\n",
    "\n",
    "response = get_completion(prompt)\n",
    "display(HTML(response))"
   ]
  },
  {
   "cell_type": "code",
   "execution_count": 3,
   "metadata": {},
   "outputs": [],
   "source": [
    "url = \"https://educatedguesswork.org/posts/wei/\"\n",
    "\n",
    "response = requests.get(url)\n",
    "soup = BeautifulSoup(response.content, \"html.parser\")\n",
    "div_tag = soup.find(\"div\", class_=\"grid-main\")\n",
    "\n",
    "post_content = div_tag.get_text()"
   ]
  },
  {
   "cell_type": "code",
   "execution_count": 5,
   "metadata": {},
   "outputs": [
    {
     "data": {
      "text/html": [
       "<!DOCTYPE html>\n",
       "<html>\n",
       "<head>\n",
       "<style>\n",
       "  body {\n",
       "    font-family: Arial, sans-serif;\n",
       "    margin: 20px;\n",
       "  }\n",
       "\n",
       "  h1 {\n",
       "    color: #333;\n",
       "    font-size: 24px;\n",
       "    margin-bottom: 10px;\n",
       "  }\n",
       "\n",
       "  h2 {\n",
       "    color: #333;\n",
       "    font-size: 20px;\n",
       "    margin-bottom: 10px;\n",
       "  }\n",
       "\n",
       "  p {\n",
       "    color: #666;\n",
       "    font-size: 16px;\n",
       "    line-height: 1.5;\n",
       "    margin-bottom: 10px;\n",
       "  }\n",
       "\n",
       "  code {\n",
       "    background-color: #f5f5f5;\n",
       "    border: 1px solid #ddd;\n",
       "    border-radius: 3px;\n",
       "    color: #333;\n",
       "    font-family: Consolas, monospace;\n",
       "    padding: 2px 5px;\n",
       "  }\n",
       "\n",
       "  pre {\n",
       "    background-color: #f5f5f5;\n",
       "    border: 1px solid #ddd;\n",
       "    border-radius: 3px;\n",
       "    color: #333;\n",
       "    font-family: Consolas, monospace;\n",
       "    padding: 10px;\n",
       "    white-space: pre-wrap;\n",
       "  }\n",
       "</style>\n",
       "</head>\n",
       "<body>\n",
       "<h1>The endpoint of Web Environment Integrity is a closed Web</h1>\n",
       "<p>Posted by ekr on 18 Aug 2023</p>\n",
       "<h2>History of Communications and Internet</h2>\n",
       "<p>The first communications network available to regular people was the telephone. The telephone network was essentially a monopoly operated by AT&T until 1983. Customers rented phones from a subsidiary of AT&T called Western Electric. In 1968, the FCC allowed consumers to connect their own equipment to the phone network, which opened the door for innovation and the use of the phone network for data transmission. At the same time, the first primitive computer networks were being constructed, leading to the development of the Internet as an open system. The Web, built on similar principles as the Internet, became the dominant paradigm for application delivery.</p>\n",
       "<h2>Impact of Mobile Applications in Closed Platforms</h2>\n",
       "<p>The opening of the iOS app store in 2008 standardized the process of downloading, installing, and updating mobile applications, leading to the rapid adoption of mobile apps as the dominant mode of mobile usage. However, mobile apps in closed platforms are less open compared to the Web. The vendor controls both the client and the server, limiting the user's control over their own experience and preventing modifications to the behavior of the app.</p>\n",
       "<h2>Opinions on WEI Proposal</h2>\n",
       "<p>The Web Environment Integrity (WEI) proposal for attestation in remote Web browsing is criticized for imposing a closed system model on the open system of the Web. The proposal aims to attest to the legitimacy of the underlying hardware and software stack, but it restricts the user's control over their own experience and limits the ability to run alternative browsers or modify the behavior of the browser. The proposal's use cases, such as preventing ad blocking or game cheating, require attestation to cover the software itself, which goes against the principles of an open system. WEI represents an attempt to impose control and restrict user freedom in the Web environment.</p>\n",
       "</body>\n",
       "</html>"
      ],
      "text/plain": [
       "<IPython.core.display.HTML object>"
      ]
     },
     "metadata": {},
     "output_type": "display_data"
    }
   ],
   "source": [
    "prompt = f\"\"\"\n",
    "Your task is to generate a short summary of the post below delimited by triple backticks, \\\n",
    "It should have threee sections, \\\n",
    "one describing the history of communications and internet, and the keys of its success, in less than 200 words \\\n",
    "then a section discussing the impact of mobile applications in closed platforms in less than 100 words \\n\n",
    "and another one summarizing the opinions of the author regarding WEI proposal. \\\n",
    "\n",
    "Please format it in HTML so we ca display it as output of a jupyter notebook.\n",
    "\n",
    "Post: ```{post_content}```\n",
    "\"\"\"\n",
    "\n",
    "response = get_completion(prompt)\n",
    "display(HTML(response))"
   ]
  },
  {
   "cell_type": "markdown",
   "metadata": {},
   "source": [
    "## Summarize from long PDF file"
   ]
  },
  {
   "cell_type": "code",
   "execution_count": 14,
   "metadata": {},
   "outputs": [
    {
     "name": "stdout",
     "output_type": "stream",
     "text": [
      "number of pages: 369\n",
      "number of words: 8452\n",
      "\n"
     ]
    }
   ],
   "source": [
    "reader = PdfReader(\"../../data/some_pdf_here.pdf\") # you need to put something here\n",
    "number_of_pages = len(reader.pages)\n",
    "from itertools import islice\n",
    "\n",
    "text = \"\"\n",
    "for page in islice(reader.pages, 0, 40):\n",
    "    text += page.extract_text()\n",
    "\n",
    "\n",
    "print(f\"number of pages: {number_of_pages}\")\n",
    "number_of_words = len(text.split(\" \"))\n",
    "print(f\"number of words: {number_of_words}\")\n",
    "print(\"\")"
   ]
  },
  {
   "cell_type": "code",
   "execution_count": 18,
   "metadata": {},
   "outputs": [
    {
     "data": {
      "text/html": [
       "This chapter introduces the three key elements of effective Web API design: business capabilities, product thinking, and developer experience. It emphasizes the importance of understanding the underlying business capabilities that an API enables and incorporating them into the API design. The concept of product thinking is introduced, which shifts the focus from one-off integrations to scalable and reusable API designs. The chapter also highlights the significance of developer experience (DX) in API design, emphasizing the need to provide a great DX to attract and retain developers. Overall, the chapter sets the foundation for the subsequent chapters by emphasizing the importance of considering these elements in API design."
      ],
      "text/plain": [
       "<IPython.core.display.HTML object>"
      ]
     },
     "metadata": {},
     "output_type": "display_data"
    }
   ],
   "source": [
    "prompt = f\"\"\"\n",
    "Your task is to generate a short summary for each chapter found in the text delimited by triple backticks, \\\n",
    "You should ignore the initial introductory chapters containing just summaries of the book and acknowledgements \\\n",
    "Each reviewed chapter should have at most 300 words \\\n",
    "\n",
    "Please format it in HTML utilizing a title header for each summarized chapter \\\n",
    "so we can display it as output of a jupyter notebook, with a title per summarized chapter.\n",
    "\n",
    "Post: ```{text}```\n",
    "\"\"\"\n",
    "\n",
    "response = get_completion(prompt)\n",
    "display(HTML(response))"
   ]
  },
  {
   "cell_type": "code",
   "execution_count": 33,
   "metadata": {},
   "outputs": [
    {
     "name": "stdout",
     "output_type": "stream",
     "text": [
      "3\t37\tTrue\n",
      "15\t49\tTrue\n",
      "31\t65\tTrue\n",
      "45\t79\tTrue\n",
      "69\t103\tTrue\n",
      "79\t113\tTrue\n",
      "101\t135\tTrue\n",
      "137\t171\tTrue\n",
      "143\t177\tTrue\n",
      "153\t187\tTrue\n",
      "159\t193\tTrue\n",
      "189\t223\tTrue\n",
      "213\t247\tTrue\n",
      "225\t259\tTrue\n",
      "233\t267\tTrue\n",
      "261\t295\tTrue\n",
      "273\t307\tTrue\n",
      "293\t327\tTrue\n"
     ]
    }
   ],
   "source": [
    "labels = reader.page_labels\n",
    "for label, page in zip(labels, reader.pages):\n",
    "    lines = page.extract_text().split(\"\\n\")\n",
    "    has_chapter = \"Chapter\" in lines[0] if lines else False\n",
    "    if has_chapter:\n",
    "        print(f\"{label}\\t{page.page_number}\\t{has_chapter}\")\n",
    "    "
   ]
  },
  {
   "cell_type": "code",
   "execution_count": null,
   "metadata": {},
   "outputs": [],
   "source": []
  }
 ],
 "metadata": {
  "kernelspec": {
   "display_name": "Python 3 (ipykernel)",
   "language": "python",
   "name": "python3"
  },
  "language_info": {
   "codemirror_mode": {
    "name": "ipython",
    "version": 3
   },
   "file_extension": ".py",
   "mimetype": "text/x-python",
   "name": "python",
   "nbconvert_exporter": "python",
   "pygments_lexer": "ipython3",
   "version": "3.10.12"
  }
 },
 "nbformat": 4,
 "nbformat_minor": 2
}
